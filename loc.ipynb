{
 "cells": [
  {
   "cell_type": "code",
   "execution_count": 1,
   "metadata": {},
   "outputs": [
    {
     "name": "stdout",
     "output_type": "stream",
     "text": [
      "      geonameid              name         asciiname  \\\n",
      "0       3040051      les Escaldes      les Escaldes   \n",
      "1       3041563  Andorra la Vella  Andorra la Vella   \n",
      "2        290594    Umm al Qaywayn    Umm al Qaywayn   \n",
      "3        291074    Ras al-Khaimah    Ras al-Khaimah   \n",
      "4        291696     Khawr Fakk��n      Khawr Fakkan   \n",
      "...         ...               ...               ...   \n",
      "23464    894701          Bulawayo          Bulawayo   \n",
      "23465    895061           Bindura           Bindura   \n",
      "23466    895269        Beitbridge        Beitbridge   \n",
      "23467   1085510           Epworth           Epworth   \n",
      "23468   1106542       Chitungwiza       Chitungwiza   \n",
      "\n",
      "                                          alternatenames   latitude longitude  \\\n",
      "0      Ehskal'des-Ehndzhordani,Escaldes,Escaldes-Engo...   42.50729   1.53414   \n",
      "1      ALV,Ando-la-Vyey,Andora,Andora la Vela,Andora ...   42.50779   1.52109   \n",
      "2      Oumm al Qaiwain,Oumm al Qa��wa��n,Um al Kawain...   25.56473  55.55517   \n",
      "3      Julfa,Khaimah,RKT,Ra's al Khaymah,Ra's al-Chai...   25.78953   55.9432   \n",
      "4      Fakkan,Fakk��n,Khawr Fakkan,Khawr Fakk��n,Khaw...   25.33132  56.34199   \n",
      "...                                                  ...        ...       ...   \n",
      "23464  BUQ,Bulavajas,Bulavajo,Bulavejo,Bulawayo,Gorad...     -20.15  28.58333   \n",
      "23465  Bindura,Bindura Town,Kimberley Reefs,_�_�___��...  -17.30192  31.33056   \n",
      "23466  Bajtbridz,Bajtbridzh,Beitbridge,Beitbridzas,Be...  -22.21667        30   \n",
      "23467                                            Epworth     -17.89   31.1475   \n",
      "23468  Chitungviza,Chitungwiza,Citungviza,Gorad Chytu...  -18.01274  31.07555   \n",
      "\n",
      "      feature class feature code country code  cc2 admin1 code admin2 code  \\\n",
      "0                 P         PPLA           AD  NaN           8         NaN   \n",
      "1                 P         PPLC           AD  NaN           7         NaN   \n",
      "2                 P         PPLA           AE  NaN           7         NaN   \n",
      "3                 P         PPLA           AE  NaN           5         NaN   \n",
      "4                 P          PPL           AE  NaN           6         NaN   \n",
      "...             ...          ...          ...  ...         ...         ...   \n",
      "23464             P         PPLA           ZW  NaN           9         NaN   \n",
      "23465             P         PPLA           ZW  NaN           3         NaN   \n",
      "23466             P          PPL           ZW  NaN           7         NaN   \n",
      "23467             P         PPLX           ZW  NaN          10         NaN   \n",
      "23468             P          PPL           ZW  NaN          10         NaN   \n",
      "\n",
      "      admin3 code admin4 code population elevation     dem        timezone  \\\n",
      "0             NaN         NaN      15853       NaN  1033.0  Europe/Andorra   \n",
      "1             NaN         NaN      20430       NaN  1037.0  Europe/Andorra   \n",
      "2             NaN         NaN      44411       NaN     2.0      Asia/Dubai   \n",
      "3             NaN         NaN     115949       NaN     2.0      Asia/Dubai   \n",
      "4             NaN         NaN      33575       NaN    20.0      Asia/Dubai   \n",
      "...           ...         ...        ...       ...     ...             ...   \n",
      "23464         NaN         NaN     699385       NaN  1348.0   Africa/Harare   \n",
      "23465         NaN         NaN      37423       NaN  1118.0   Africa/Harare   \n",
      "23466         NaN         NaN      26459       NaN   461.0   Africa/Harare   \n",
      "23467         NaN         NaN     123250       NaN  1508.0   Africa/Harare   \n",
      "23468         NaN         NaN     340360       NaN  1435.0   Africa/Harare   \n",
      "\n",
      "      modification date  \n",
      "0              10/15/08  \n",
      "1               5/30/10  \n",
      "2               10/7/14  \n",
      "3               12/5/15  \n",
      "4              10/25/13  \n",
      "...                 ...  \n",
      "23464            8/3/10  \n",
      "23465            8/3/10  \n",
      "23466           3/12/13  \n",
      "23467           1/19/12  \n",
      "23468           1/20/12  \n",
      "\n",
      "[23469 rows x 19 columns]\n"
     ]
    }
   ],
   "source": [
    "import pandas as pd\n",
    "\n",
    "locat = pd.read_csv('C:\\College Task\\Smt 5\\OOP\\Software_design\\cities15000.csv')\n",
    "cit_name = locat[locat['name']=='Bandung'].index.values[0]\n",
    "print(locat)\n",
    "lat = (locat.loc[cit_name,'latitude'])\n",
    "abs_lat = abs(float(lat))"
   ]
  },
  {
   "cell_type": "code",
   "execution_count": 2,
   "metadata": {},
   "outputs": [
    {
     "ename": "NameError",
     "evalue": "name 'locat' is not defined",
     "output_type": "error",
     "traceback": [
      "\u001b[1;31m---------------------------------------------------------------------------\u001b[0m",
      "\u001b[1;31mNameError\u001b[0m                                 Traceback (most recent call last)",
      "\u001b[1;32mc:\\College Task\\Smt 5\\OOP\\Software_design\\loc.ipynb Cell 2'\u001b[0m in \u001b[0;36m<cell line: 1>\u001b[1;34m()\u001b[0m\n\u001b[1;32m----> <a href='vscode-notebook-cell:/c%3A/College%20Task/Smt%205/OOP/Software_design/loc.ipynb#ch0000001?line=0'>1</a>\u001b[0m cit_name \u001b[39m=\u001b[39m locat[locat[\u001b[39m'\u001b[39m\u001b[39mname\u001b[39m\u001b[39m'\u001b[39m]\u001b[39m==\u001b[39m\u001b[39m'\u001b[39m\u001b[39mBandung\u001b[39m\u001b[39m'\u001b[39m]\u001b[39m.\u001b[39mindex\u001b[39m.\u001b[39mvalues[\u001b[39m0\u001b[39m]\n\u001b[0;32m      <a href='vscode-notebook-cell:/c%3A/College%20Task/Smt%205/OOP/Software_design/loc.ipynb#ch0000001?line=1'>2</a>\u001b[0m \u001b[39mprint\u001b[39m (locat\u001b[39m.\u001b[39mloc[cit_name,\u001b[39m'\u001b[39m\u001b[39mlatitude\u001b[39m\u001b[39m'\u001b[39m])\n",
      "\u001b[1;31mNameError\u001b[0m: name 'locat' is not defined"
     ]
    }
   ],
   "source": []
  }
 ],
 "metadata": {
  "interpreter": {
   "hash": "ef7763499ff1966fa1095eff46140c4c61c0ac9a3bf1ec0ce4e93cbfa3a9e7c5"
  },
  "kernelspec": {
   "display_name": "Python 3.9.12 64-bit (windows store)",
   "language": "python",
   "name": "python3"
  },
  "language_info": {
   "codemirror_mode": {
    "name": "ipython",
    "version": 3
   },
   "file_extension": ".py",
   "mimetype": "text/x-python",
   "name": "python",
   "nbconvert_exporter": "python",
   "pygments_lexer": "ipython3",
   "version": "3.9.12"
  },
  "orig_nbformat": 4
 },
 "nbformat": 4,
 "nbformat_minor": 2
}
